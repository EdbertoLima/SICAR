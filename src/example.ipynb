{
  "nbformat": 4,
  "nbformat_minor": 0,
  "metadata": {
    "colab": {
      "name": "example.ipynb",
      "provenance": [],
      "collapsed_sections": [],
      "toc_visible": true,
      "authorship_tag": "ABX9TyOx+S9OzUr016tmY4nmi6Zo",
      "include_colab_link": true
    },
    "kernelspec": {
      "name": "python3",
      "display_name": "Python 3"
    }
  },
  "cells": [
    {
      "cell_type": "markdown",
      "metadata": {
        "id": "view-in-github",
        "colab_type": "text"
      },
      "source": [
        "<a href=\"https://colab.research.google.com/github/urbanogilson/SICAR/blob/main/src/example.ipynb\" target=\"_parent\"><img src=\"https://colab.research.google.com/assets/colab-badge.svg\" alt=\"Open In Colab\"/></a>"
      ]
    },
    {
      "cell_type": "markdown",
      "metadata": {
        "id": "ut_EcJYGGvzG"
      },
      "source": [
        "# Example"
      ]
    },
    {
      "cell_type": "markdown",
      "metadata": {
        "id": "f4q5YavVG26M"
      },
      "source": [
        "Connect your Google Drive account to save files permanently to your drive"
      ]
    },
    {
      "cell_type": "code",
      "metadata": {
        "colab": {
          "base_uri": "https://localhost:8080/"
        },
        "id": "SewHp3K6wrri",
        "outputId": "3eee740c-bfbc-4f53-eeda-2f4f66f989c8"
      },
      "source": [
        "from google.colab import drive\r\n",
        "drive.mount('/content/drive')"
      ],
      "execution_count": 1,
      "outputs": [
        {
          "output_type": "stream",
          "text": [
            "Mounted at /content/drive\n"
          ],
          "name": "stdout"
        }
      ]
    },
    {
      "cell_type": "markdown",
      "metadata": {
        "id": "G6NirzMMHzRW"
      },
      "source": [
        "Download dependencies"
      ]
    },
    {
      "cell_type": "code",
      "metadata": {
        "colab": {
          "base_uri": "https://localhost:8080/"
        },
        "id": "GLarioSL0AdR",
        "outputId": "bbf5790b-349f-48b1-990d-6aaad5db9292"
      },
      "source": [
        "!git clone https://github.com/urbanogilson/SICAR.git\r\n",
        "!sudo apt install tesseract-ocr\r\n",
        "!pip install pytesseract"
      ],
      "execution_count": 3,
      "outputs": [
        {
          "output_type": "stream",
          "text": [
            "fatal: destination path 'SICAR' already exists and is not an empty directory.\n",
            "Reading package lists... Done\n",
            "Building dependency tree       \n",
            "Reading state information... Done\n",
            "tesseract-ocr is already the newest version (4.00~git2288-10f4998a-2).\n",
            "0 upgraded, 0 newly installed, 0 to remove and 17 not upgraded.\n",
            "Requirement already satisfied: pytesseract in /usr/local/lib/python3.6/dist-packages (0.3.7)\n",
            "Requirement already satisfied: Pillow in /usr/local/lib/python3.6/dist-packages (from pytesseract) (7.0.0)\n"
          ],
          "name": "stdout"
        }
      ]
    },
    {
      "cell_type": "code",
      "metadata": {
        "id": "0SiOtCnby3TY"
      },
      "source": [
        "from SICAR.src.sicar import Sicar\r\n",
        "import pprint"
      ],
      "execution_count": 4,
      "outputs": []
    },
    {
      "cell_type": "code",
      "metadata": {
        "id": "mh1l468ry2pk"
      },
      "source": [
        "# Create Sicar instance\r\n",
        "car = Sicar(email = \"sicar@sicar.com\")"
      ],
      "execution_count": 5,
      "outputs": []
    },
    {
      "cell_type": "code",
      "metadata": {
        "id": "OD-ZiKyYy2Zw"
      },
      "source": [
        "# Get cities codes by state\r\n",
        "cities_codes_rr = car.get_cities_codes(state='RR')"
      ],
      "execution_count": 10,
      "outputs": []
    },
    {
      "cell_type": "code",
      "metadata": {
        "colab": {
          "base_uri": "https://localhost:8080/"
        },
        "id": "YQLxBxLz0RBQ",
        "outputId": "9d7101b0-20f0-429d-96a6-2748928959a3"
      },
      "source": [
        "pprint.pprint(cities_codes_rr)"
      ],
      "execution_count": 11,
      "outputs": [
        {
          "output_type": "stream",
          "text": [
            "{'Alto Alegre': '1400050',\n",
            " 'Amajari': '1400027',\n",
            " 'Boa Vista': '1400100',\n",
            " 'Bonfim': '1400159',\n",
            " 'Cantá': '1400175',\n",
            " 'Caracaraí': '1400209',\n",
            " 'Caroebe': '1400233',\n",
            " 'Iracema': '1400282',\n",
            " 'Mucajaí': '1400308',\n",
            " 'Normandia': '1400407',\n",
            " 'Pacaraima': '1400456',\n",
            " 'Rorainópolis': '1400472',\n",
            " 'São João da Baliza': '1400506',\n",
            " 'São Luiz': '1400605',\n",
            " 'Uiramutã': '1400704'}\n"
          ],
          "name": "stdout"
        }
      ]
    },
    {
      "cell_type": "markdown",
      "metadata": {
        "id": "CRSKdPny0W4T"
      },
      "source": [
        "### Download city"
      ]
    },
    {
      "cell_type": "code",
      "metadata": {
        "id": "ruFkpgh1I4ep",
        "outputId": "4f6bf0f5-63ef-4e46-c89e-353f334f18be",
        "colab": {
          "base_uri": "https://localhost:8080/"
        }
      },
      "source": [
        "# 'Salinas': '3157005'\r\n",
        "car.download_city_code('3157005', folder='drive/MyDrive/SICAR/MG', debug=True)"
      ],
      "execution_count": 12,
      "outputs": [
        {
          "output_type": "stream",
          "text": [
            "Try 25 - Requesting shape file with captcha: SoSUA\n"
          ],
          "name": "stdout"
        },
        {
          "output_type": "stream",
          "text": [
            "Downloading city 3157005: 2.99kB [00:10, 305B/s]                            \n"
          ],
          "name": "stderr"
        },
        {
          "output_type": "execute_result",
          "data": {
            "text/plain": [
              "True"
            ]
          },
          "metadata": {
            "tags": []
          },
          "execution_count": 12
        }
      ]
    },
    {
      "cell_type": "code",
      "metadata": {
        "colab": {
          "base_uri": "https://localhost:8080/"
        },
        "id": "y_X3LgYs0RHJ",
        "outputId": "777d7f67-de20-4eb4-d9de-0a4894c0a0d3"
      },
      "source": [
        "# 'Curral de Dentro': '3120870',\r\n",
        "car.download_city_code('3120870', folder='drive/MyDrive/SICAR/MG', debug=False)"
      ],
      "execution_count": 13,
      "outputs": [
        {
          "output_type": "stream",
          "text": [
            "Downloading city 3120870: 735B [00:03, 216B/s]                          \n"
          ],
          "name": "stderr"
        },
        {
          "output_type": "execute_result",
          "data": {
            "text/plain": [
              "True"
            ]
          },
          "metadata": {
            "tags": []
          },
          "execution_count": 13
        }
      ]
    },
    {
      "cell_type": "markdown",
      "metadata": {
        "id": "Le170ede1Gmu"
      },
      "source": [
        "### Download cities"
      ]
    },
    {
      "cell_type": "code",
      "metadata": {
        "colab": {
          "base_uri": "https://localhost:8080/"
        },
        "id": "GSoc1FBD0RJo",
        "outputId": "3d124ff4-f8ef-4768-a421-55661c80bbca"
      },
      "source": [
        "cities_codes = {\r\n",
        "    'São Gabriel da Cachoeira': '1303809',\r\n",
        "    'São Paulo de Olivença': '1303908'\r\n",
        "}\r\n",
        "\r\n",
        "car.download_cities(cities_codes=cities_codes, folder='drive/MyDrive/SICAR/cities', debug=True)"
      ],
      "execution_count": null,
      "outputs": [
        {
          "output_type": "stream",
          "text": [
            "Downloading: São Gabriel da Cachoeira 1303809\n",
            "Try 25 - Requesting shape file with captcha: V27Ka\n",
            "Try 25 - Downloaded city code: 1303809 using captcha V27Ka\n",
            "Downloading: São Paulo de Olivença 1303908\n",
            "Try 25 - Requesting shape file with captcha: DSBBC\n",
            "Try 25 - Downloaded city code: 1303908 using captcha DSBBC\n"
          ],
          "name": "stdout"
        }
      ]
    },
    {
      "cell_type": "markdown",
      "metadata": {
        "id": "VgJozoVPR7lq"
      },
      "source": [
        "### Download cities (returning failed cities)"
      ]
    },
    {
      "cell_type": "code",
      "metadata": {
        "id": "zdA-r0dVSB1C",
        "outputId": "f6e88d7a-41ab-4725-904a-7e19e6001fed",
        "colab": {
          "base_uri": "https://localhost:8080/"
        }
      },
      "source": [
        "cities_codes = {\r\n",
        "    'São Gabriel da Cachoeira': '1303809',\r\n",
        "    'São Paulo de Olivença': '1303908'\r\n",
        "}\r\n",
        "\r\n",
        "failed_cities = car.download_cities(cities_codes=cities_codes, folder='drive/MyDrive/SICAR/cities', tries=3, debug=True)"
      ],
      "execution_count": 15,
      "outputs": [
        {
          "output_type": "stream",
          "text": [
            "Invalid Captcha: shMiss\n",
            "Try 3 - Requesting shape file with captcha: fvdox\n",
            "Try 3 - Incorret captcha: fvdox :-(\n",
            "Try 2 - Requesting shape file with captcha: ujNow\n",
            "Try 2 - Incorret captcha: ujNow :-(\n",
            "Invalid Captcha: Cm2\n",
            "Try 1 - Requesting shape file with captcha: AbeNr\n"
          ],
          "name": "stdout"
        },
        {
          "output_type": "stream",
          "text": [
            "Downloading city 1303809: 1.06kB [00:03, 304B/s]                            \n"
          ],
          "name": "stderr"
        },
        {
          "output_type": "stream",
          "text": [
            "Try 3 - Requesting shape file with captcha: kpiRi\n",
            "Try 3 - Incorret captcha: kpiRi :-(\n",
            "Try 2 - Requesting shape file with captcha: NotLH\n",
            "Try 2 - Incorret captcha: NotLH :-(\n",
            "Try 1 - Requesting shape file with captcha: KxecZ\n",
            "Try 1 - Incorret captcha: KxecZ :-(\n"
          ],
          "name": "stdout"
        }
      ]
    },
    {
      "cell_type": "code",
      "metadata": {
        "id": "twTpIsaaa2QV",
        "outputId": "d6a5b8c7-aa9c-413a-881e-ff22f6edf721",
        "colab": {
          "base_uri": "https://localhost:8080/"
        }
      },
      "source": [
        "pprint.pprint(failed_cities)"
      ],
      "execution_count": 16,
      "outputs": [
        {
          "output_type": "stream",
          "text": [
            "{'São Paulo de Olivença': '1303908'}\n"
          ],
          "name": "stdout"
        }
      ]
    },
    {
      "cell_type": "markdown",
      "metadata": {
        "id": "UOPTmr7J1JDy"
      },
      "source": [
        "### Download state"
      ]
    },
    {
      "cell_type": "code",
      "metadata": {
        "colab": {
          "base_uri": "https://localhost:8080/"
        },
        "id": "TgGAFvbG0RME",
        "outputId": "a614dcd2-1c66-45e1-cdf5-63b2613d8cdb"
      },
      "source": [
        "car.download_state(state='RR', folder='drive/MyDrive/SICAR/RR', debug=False)"
      ],
      "execution_count": null,
      "outputs": [
        {
          "output_type": "stream",
          "text": [
            "Downloading: Alto Alegre 1400050\n",
            "Downloading: Amajari 1400027\n",
            "Downloading: Boa Vista 1400100\n",
            "Downloading: Bonfim 1400159\n",
            "Downloading: Cantá 1400175\n",
            "Downloading: Caracaraí 1400209\n",
            "Downloading: Caroebe 1400233\n",
            "Downloading: Iracema 1400282\n",
            "Downloading: Mucajaí 1400308\n",
            "Downloading: Normandia 1400407\n",
            "Downloading: Pacaraima 1400456\n",
            "Downloading: Rorainópolis 1400472\n",
            "Downloading: São João da Baliza 1400506\n",
            "Downloading: São Luiz 1400605\n",
            "Downloading: Uiramutã 1400704\n"
          ],
          "name": "stdout"
        }
      ]
    }
  ]
}