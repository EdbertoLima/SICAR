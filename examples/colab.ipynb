{
  "cells": [
    {
      "cell_type": "markdown",
      "metadata": {
        "id": "ut_EcJYGGvzG"
      },
      "source": [
        "# SICAR - Colab"
      ]
    },
    {
      "cell_type": "markdown",
      "metadata": {
        "id": "f4q5YavVG26M"
      },
      "source": [
        "[Optional] To ensure permanent file storage in your Google Drive account, you can connect it to this Colab notebook. By executing the following code snippet, your Google Drive will be mounted and accessible for saving and retrieving files:\n"
      ]
    },
    {
      "cell_type": "code",
      "execution_count": null,
      "metadata": {
        "colab": {
          "base_uri": "https://localhost:8080/"
        },
        "id": "SewHp3K6wrri",
        "outputId": "7d857bc0-ed37-4602-9283-5b5b069f9ca3"
      },
      "outputs": [
        {
          "output_type": "stream",
          "name": "stdout",
          "text": [
            "Mounted at /content/drive\n"
          ]
        }
      ],
      "source": [
        "from google.colab import drive\n",
        "drive.mount('/content/drive')"
      ]
    },
    {
      "cell_type": "markdown",
      "metadata": {
        "id": "7hGN3FJHzWEr"
      },
      "source": [
        "## Install SICAR package\n",
        "\n",
        "To install the SICAR package and the Tesseract OCR engine in your Colab notebook, execute the following commands:"
      ]
    },
    {
      "cell_type": "code",
      "execution_count": 1,
      "metadata": {
        "colab": {
          "base_uri": "https://localhost:8080/"
        },
        "id": "pUUHpgV3pIsz",
        "outputId": "232b64c3-65ab-49e0-8e94-9969234ee67a"
      },
      "outputs": [
        {
          "output_type": "stream",
          "name": "stdout",
          "text": [
            "Collecting git+https://github.com/urbanogilson/SICAR@v0.6-dev\n",
            "  Cloning https://github.com/urbanogilson/SICAR (to revision v0.6-dev) to /tmp/pip-req-build-06jjhz5a\n",
            "  Running command git clone --filter=blob:none --quiet https://github.com/urbanogilson/SICAR /tmp/pip-req-build-06jjhz5a\n",
            "  Running command git checkout -b v0.6-dev --track origin/v0.6-dev\n",
            "  Switched to a new branch 'v0.6-dev'\n",
            "  Branch 'v0.6-dev' set up to track remote branch 'v0.6-dev' from 'origin'.\n",
            "  Resolved https://github.com/urbanogilson/SICAR to commit 75ff71731a972c9ddb78d511ed673bbe976d2f5c\n",
            "  Installing build dependencies ... \u001b[?25l\u001b[?25hdone\n",
            "  Getting requirements to build wheel ... \u001b[?25l\u001b[?25hdone\n",
            "  Preparing metadata (pyproject.toml) ... \u001b[?25l\u001b[?25hdone\n",
            "Requirement already satisfied: requests>=2.27.1 in /usr/local/lib/python3.10/dist-packages (from SICAR==0.6.0) (2.27.1)\n",
            "Requirement already satisfied: urllib3>=1.26.15 in /usr/local/lib/python3.10/dist-packages (from SICAR==0.6.0) (1.26.16)\n",
            "Collecting pytesseract==0.3.10 (from SICAR==0.6.0)\n",
            "  Downloading pytesseract-0.3.10-py3-none-any.whl (14 kB)\n",
            "Requirement already satisfied: opencv-python>=4.6.0.66 in /usr/local/lib/python3.10/dist-packages (from SICAR==0.6.0) (4.7.0.72)\n",
            "Requirement already satisfied: numpy>=1.22.4 in /usr/local/lib/python3.10/dist-packages (from SICAR==0.6.0) (1.22.4)\n",
            "Requirement already satisfied: tqdm>=4.65.0 in /usr/local/lib/python3.10/dist-packages (from SICAR==0.6.0) (4.65.0)\n",
            "Requirement already satisfied: matplotlib>=3.7.1 in /usr/local/lib/python3.10/dist-packages (from SICAR==0.6.0) (3.7.1)\n",
            "Requirement already satisfied: packaging>=21.3 in /usr/local/lib/python3.10/dist-packages (from pytesseract==0.3.10->SICAR==0.6.0) (23.1)\n",
            "Requirement already satisfied: Pillow>=8.0.0 in /usr/local/lib/python3.10/dist-packages (from pytesseract==0.3.10->SICAR==0.6.0) (8.4.0)\n",
            "Requirement already satisfied: contourpy>=1.0.1 in /usr/local/lib/python3.10/dist-packages (from matplotlib>=3.7.1->SICAR==0.6.0) (1.1.0)\n",
            "Requirement already satisfied: cycler>=0.10 in /usr/local/lib/python3.10/dist-packages (from matplotlib>=3.7.1->SICAR==0.6.0) (0.11.0)\n",
            "Requirement already satisfied: fonttools>=4.22.0 in /usr/local/lib/python3.10/dist-packages (from matplotlib>=3.7.1->SICAR==0.6.0) (4.40.0)\n",
            "Requirement already satisfied: kiwisolver>=1.0.1 in /usr/local/lib/python3.10/dist-packages (from matplotlib>=3.7.1->SICAR==0.6.0) (1.4.4)\n",
            "Requirement already satisfied: pyparsing>=2.3.1 in /usr/local/lib/python3.10/dist-packages (from matplotlib>=3.7.1->SICAR==0.6.0) (3.1.0)\n",
            "Requirement already satisfied: python-dateutil>=2.7 in /usr/local/lib/python3.10/dist-packages (from matplotlib>=3.7.1->SICAR==0.6.0) (2.8.2)\n",
            "Requirement already satisfied: certifi>=2017.4.17 in /usr/local/lib/python3.10/dist-packages (from requests>=2.27.1->SICAR==0.6.0) (2023.5.7)\n",
            "Requirement already satisfied: charset-normalizer~=2.0.0 in /usr/local/lib/python3.10/dist-packages (from requests>=2.27.1->SICAR==0.6.0) (2.0.12)\n",
            "Requirement already satisfied: idna<4,>=2.5 in /usr/local/lib/python3.10/dist-packages (from requests>=2.27.1->SICAR==0.6.0) (3.4)\n",
            "Requirement already satisfied: six>=1.5 in /usr/local/lib/python3.10/dist-packages (from python-dateutil>=2.7->matplotlib>=3.7.1->SICAR==0.6.0) (1.16.0)\n",
            "Building wheels for collected packages: SICAR\n",
            "  Building wheel for SICAR (pyproject.toml) ... \u001b[?25l\u001b[?25hdone\n",
            "  Created wheel for SICAR: filename=SICAR-0.6.0-py3-none-any.whl size=13419 sha256=d140533cdd2f02f862d3808ea9a7e77bc5a53c6087e9cc60598f5b0f25778791\n",
            "  Stored in directory: /tmp/pip-ephem-wheel-cache-kkmnilmr/wheels/8b/ff/64/fd189503d2d52179aadbf8b18fad24798ac940a2b64ebcc5f4\n",
            "Successfully built SICAR\n",
            "Installing collected packages: pytesseract, SICAR\n",
            "Successfully installed SICAR-0.6.0 pytesseract-0.3.10\n",
            "Reading package lists... Done\n",
            "Building dependency tree       \n",
            "Reading state information... Done\n",
            "The following additional packages will be installed:\n",
            "  tesseract-ocr-eng tesseract-ocr-osd\n",
            "The following NEW packages will be installed:\n",
            "  tesseract-ocr tesseract-ocr-eng tesseract-ocr-osd\n",
            "0 upgraded, 3 newly installed, 0 to remove and 13 not upgraded.\n",
            "Need to get 4,850 kB of archives.\n",
            "After this operation, 16.3 MB of additional disk space will be used.\n",
            "Get:1 http://archive.ubuntu.com/ubuntu focal/universe amd64 tesseract-ocr-eng all 1:4.00~git30-7274cfa-1 [1,598 kB]\n",
            "Get:2 http://archive.ubuntu.com/ubuntu focal/universe amd64 tesseract-ocr-osd all 1:4.00~git30-7274cfa-1 [2,990 kB]\n",
            "Get:3 http://archive.ubuntu.com/ubuntu focal/universe amd64 tesseract-ocr amd64 4.1.1-2build2 [262 kB]\n",
            "Fetched 4,850 kB in 0s (27.9 MB/s)\n",
            "debconf: unable to initialize frontend: Dialog\n",
            "debconf: (No usable dialog-like program is installed, so the dialog based frontend cannot be used. at /usr/share/perl5/Debconf/FrontEnd/Dialog.pm line 76, <> line 3.)\n",
            "debconf: falling back to frontend: Readline\n",
            "debconf: unable to initialize frontend: Readline\n",
            "debconf: (This frontend requires a controlling tty.)\n",
            "debconf: falling back to frontend: Teletype\n",
            "dpkg-preconfigure: unable to re-open stdin: \n",
            "Selecting previously unselected package tesseract-ocr-eng.\n",
            "(Reading database ... 123069 files and directories currently installed.)\n",
            "Preparing to unpack .../tesseract-ocr-eng_1%3a4.00~git30-7274cfa-1_all.deb ...\n",
            "Unpacking tesseract-ocr-eng (1:4.00~git30-7274cfa-1) ...\n",
            "Selecting previously unselected package tesseract-ocr-osd.\n",
            "Preparing to unpack .../tesseract-ocr-osd_1%3a4.00~git30-7274cfa-1_all.deb ...\n",
            "Unpacking tesseract-ocr-osd (1:4.00~git30-7274cfa-1) ...\n",
            "Selecting previously unselected package tesseract-ocr.\n",
            "Preparing to unpack .../tesseract-ocr_4.1.1-2build2_amd64.deb ...\n",
            "Unpacking tesseract-ocr (4.1.1-2build2) ...\n",
            "Setting up tesseract-ocr-eng (1:4.00~git30-7274cfa-1) ...\n",
            "Setting up tesseract-ocr-osd (1:4.00~git30-7274cfa-1) ...\n",
            "Setting up tesseract-ocr (4.1.1-2build2) ...\n",
            "Processing triggers for man-db (2.9.1-1) ...\n"
          ]
        }
      ],
      "source": [
        "!pip install git+https://github.com/urbanogilson/SICAR\n",
        "!sudo apt install tesseract-ocr -y"
      ]
    },
    {
      "cell_type": "markdown",
      "source": [
        "## Usage"
      ],
      "metadata": {
        "id": "Nz3QGQ7EewXQ"
      }
    },
    {
      "cell_type": "code",
      "execution_count": 2,
      "metadata": {
        "id": "0SiOtCnby3TY"
      },
      "outputs": [],
      "source": [
        "from SICAR import Sicar, OutputFormat, State\n",
        "import pprint"
      ]
    },
    {
      "cell_type": "code",
      "execution_count": 3,
      "metadata": {
        "id": "mh1l468ry2pk"
      },
      "outputs": [],
      "source": [
        "# Create an instance of the Sicar class and provide your email\n",
        "car = Sicar(email = \"sicar@sicar.com\")"
      ]
    },
    {
      "cell_type": "code",
      "execution_count": 4,
      "metadata": {
        "id": "OD-ZiKyYy2Zw"
      },
      "outputs": [],
      "source": [
        "# Use the get_cities_codes method to retrieve city codes for a specific state (e.g., RR)\n",
        "cities_codes = car.get_cities_codes(state='AP')"
      ]
    },
    {
      "cell_type": "code",
      "execution_count": 5,
      "metadata": {
        "colab": {
          "base_uri": "https://localhost:8080/"
        },
        "id": "YQLxBxLz0RBQ",
        "outputId": "b5f5d5ba-6ac5-478e-bdd8-48e93515f5be"
      },
      "outputs": [
        {
          "output_type": "stream",
          "name": "stdout",
          "text": [
            "{'Amapá': '1600105',\n",
            " 'Calçoene': '1600204',\n",
            " 'Cutias': '1600212',\n",
            " 'Ferreira Gomes': '1600238',\n",
            " 'Itaubal': '1600253',\n",
            " 'Laranjal do Jari': '1600279',\n",
            " 'Macapá': '1600303',\n",
            " 'Mazagão': '1600402',\n",
            " 'Oiapoque': '1600501',\n",
            " 'Pedra Branca do Amapari': '1600154',\n",
            " 'Porto Grande': '1600535',\n",
            " 'Pracuúba': '1600550',\n",
            " 'Santana': '1600600',\n",
            " 'Serra do Navio': '1600055',\n",
            " 'Tartarugalzinho': '1600709',\n",
            " 'Vitória do Jari': '1600808'}\n"
          ]
        }
      ],
      "source": [
        "pprint.pprint(cities_codes)"
      ]
    },
    {
      "cell_type": "code",
      "source": [
        "# Call the help() function on the get_cities_codes method to get its usage information\n",
        "help(car.get_cities_codes)"
      ],
      "metadata": {
        "id": "ku1IA-ZXfM2x",
        "outputId": "5b101588-3ed0-438b-df6d-46767acc41f2",
        "colab": {
          "base_uri": "https://localhost:8080/"
        }
      },
      "execution_count": 6,
      "outputs": [
        {
          "output_type": "stream",
          "name": "stdout",
          "text": [
            "Help on method get_cities_codes in module SICAR.sicar:\n",
            "\n",
            "get_cities_codes(state: SICAR.state.State | str) -> Dict method of SICAR.sicar.Sicar instance\n",
            "    Retrieve the codes of cities in a given state.\n",
            "    \n",
            "    Parameters:\n",
            "        state (Union[State, str]): The state or state code to retrieve the cities for.\n",
            "    \n",
            "    Returns:\n",
            "        Dict: A dictionary mapping city names to their corresponding codes.\n",
            "    \n",
            "    Raises:\n",
            "        StateCodeNotValidException: If the state code is not valid.\n",
            "    \n",
            "    Note:\n",
            "        If `state` is provided as a string, it will be converted to the corresponding State enum value. The state code\n",
            "        must be valid, or a StateCodeNotValidException will be raised.\n",
            "\n"
          ]
        }
      ]
    },
    {
      "cell_type": "markdown",
      "metadata": {
        "id": "CRSKdPny0W4T"
      },
      "source": [
        "### Download city (Shapefile)"
      ]
    },
    {
      "cell_type": "code",
      "execution_count": null,
      "metadata": {
        "colab": {
          "base_uri": "https://localhost:8080/"
        },
        "id": "ruFkpgh1I4ep",
        "outputId": "8c215d8c-3818-44c8-9939-d630a3eeb138"
      },
      "outputs": [
        {
          "output_type": "stream",
          "name": "stdout",
          "text": [
            "[25] - Requesting city '3157005' in 'shapefile' format with captcha 'gitzm'\n"
          ]
        },
        {
          "output_type": "stream",
          "name": "stderr",
          "text": [
            "Downloading Shapefile for city with code '3157005': 100%|██████████| 6.68M/6.68M [00:01<00:00, 6.31MiB/s]\n"
          ]
        },
        {
          "output_type": "execute_result",
          "data": {
            "text/plain": [
              "PosixPath('drive/MyDrive/SICAR/MG/SHAPE_3157005.zip')"
            ]
          },
          "metadata": {},
          "execution_count": 6
        }
      ],
      "source": [
        "# 'Salinas': '3157005'\n",
        "car.download_city_code('3157005', folder='drive/MyDrive/SICAR/MG', debug=True)"
      ]
    },
    {
      "cell_type": "code",
      "execution_count": null,
      "metadata": {
        "colab": {
          "base_uri": "https://localhost:8080/"
        },
        "id": "y_X3LgYs0RHJ",
        "outputId": "b1db2470-f5a0-40c1-8be4-7525d06c78e4"
      },
      "outputs": [
        {
          "output_type": "stream",
          "name": "stderr",
          "text": [
            "Downloading Shapefile for city with code '3120870': 100%|██████████| 1.74M/1.74M [00:00<00:00, 2.77MiB/s]\n"
          ]
        },
        {
          "output_type": "execute_result",
          "data": {
            "text/plain": [
              "PosixPath('drive/MyDrive/SICAR/MG/SHAPE_3120870.zip')"
            ]
          },
          "metadata": {},
          "execution_count": 7
        }
      ],
      "source": [
        "# 'Curral de Dentro': '3120870',\n",
        "car.download_city_code('3120870', folder='drive/MyDrive/SICAR/MG', debug=False)"
      ]
    },
    {
      "cell_type": "markdown",
      "source": [
        "### Download city (CSV)"
      ],
      "metadata": {
        "id": "dzd_3ZJadDX9"
      }
    },
    {
      "cell_type": "code",
      "execution_count": null,
      "metadata": {
        "colab": {
          "base_uri": "https://localhost:8080/"
        },
        "outputId": "1a21a61b-b142-41b4-f36d-70475b99215f",
        "id": "_NuyodALdJgz"
      },
      "outputs": [
        {
          "output_type": "stream",
          "name": "stderr",
          "text": [
            "Downloading CSV  file for city with code '3157005': 100%|██████████| 373k/373k [00:00<00:00, 1.04MiB/s]\n"
          ]
        },
        {
          "output_type": "execute_result",
          "data": {
            "text/plain": [
              "PosixPath('drive/MyDrive/SICAR/MG/CSV_3157005.csv')"
            ]
          },
          "metadata": {},
          "execution_count": 18
        }
      ],
      "source": [
        "# 'Salinas': '3157005'\n",
        "car.download_city_code('3157005', folder='drive/MyDrive/SICAR/MG', output_format=OutputFormat.CSV)"
      ]
    },
    {
      "cell_type": "markdown",
      "metadata": {
        "id": "Le170ede1Gmu"
      },
      "source": [
        "### Download cities"
      ]
    },
    {
      "cell_type": "code",
      "execution_count": null,
      "metadata": {
        "colab": {
          "base_uri": "https://localhost:8080/"
        },
        "id": "GSoc1FBD0RJo",
        "outputId": "295450e5-91fb-4110-a25a-c723a14175c4"
      },
      "outputs": [
        {
          "output_type": "stream",
          "name": "stdout",
          "text": [
            "[25] - Invalid captcha 'a3iVien' to request city '1303809' in 'shapefile' format\n",
            "[24] - Invalid captcha 'QwB' to request city '1303809' in 'shapefile' format\n",
            "[23] - Invalid captcha 'Ad4zii' to request city '1303809' in 'shapefile' format\n",
            "[22] - Invalid captcha 'Wvhbzi' to request city '1303809' in 'shapefile' format\n",
            "[21] - Requesting city '1303809' in 'shapefile' format with captcha 'xXXEY'\n",
            "[21] - Failed to download shapefile! When requesting city '1303809' in 'shapefile' format\n",
            "[20] - Invalid captcha 'ANSAnt' to request city '1303809' in 'shapefile' format\n",
            "[19] - Requesting city '1303809' in 'shapefile' format with captcha 'Pqpz8'\n"
          ]
        },
        {
          "output_type": "stream",
          "name": "stderr",
          "text": [
            "Downloading Shapefile for city with code '1303809': 100%|██████████| 2.46M/2.46M [00:00<00:00, 3.38MiB/s]\n"
          ]
        },
        {
          "output_type": "stream",
          "name": "stdout",
          "text": [
            "[25] - Requesting city '1303908' in 'shapefile' format with captcha 'DBHtU'\n"
          ]
        },
        {
          "output_type": "stream",
          "name": "stderr",
          "text": [
            "Downloading Shapefile for city with code '1303908': 100%|██████████| 3.36M/3.36M [00:00<00:00, 5.41MiB/s]\n"
          ]
        }
      ],
      "source": [
        "cities_codes = {\n",
        "    'São Gabriel da Cachoeira': '1303809',\n",
        "    'São Paulo de Olivença': '1303908'\n",
        "}\n",
        "\n",
        "result_cities = car.download_cities(cities_codes=cities_codes, folder='drive/MyDrive/SICAR/cities', debug=True)"
      ]
    },
    {
      "cell_type": "code",
      "source": [
        "pprint.pprint(result_cities)"
      ],
      "metadata": {
        "id": "va9Aez52cpn9",
        "outputId": "a9c0af22-c1e9-4721-ced5-179175df5f96",
        "colab": {
          "base_uri": "https://localhost:8080/"
        }
      },
      "execution_count": null,
      "outputs": [
        {
          "output_type": "stream",
          "name": "stdout",
          "text": [
            "{('São Gabriel da Cachoeira', '1303809'): PosixPath('drive/MyDrive/SICAR/cities/SHAPE_1303809.zip'),\n",
            " ('São Paulo de Olivença', '1303908'): PosixPath('drive/MyDrive/SICAR/cities/SHAPE_1303908.zip')}\n"
          ]
        }
      ]
    },
    {
      "cell_type": "markdown",
      "metadata": {
        "id": "VgJozoVPR7lq"
      },
      "source": [
        "### Download cities (returning failed cities)"
      ]
    },
    {
      "cell_type": "code",
      "execution_count": null,
      "metadata": {
        "colab": {
          "base_uri": "https://localhost:8080/"
        },
        "id": "zdA-r0dVSB1C",
        "outputId": "8bea80d8-9985-411d-b002-ad6920e90601"
      },
      "outputs": [
        {
          "output_type": "stream",
          "name": "stdout",
          "text": [
            "[01] - Requesting city '1303809' in 'shapefile' format with captcha 'Fpter'\n",
            "[01] - Failed to download shapefile! When requesting city '1303809' in 'shapefile' format\n",
            "[01] - Requesting city '1303908' in 'shapefile' format with captcha 'VkrS4'\n",
            "[01] - Failed to download shapefile! When requesting city '1303908' in 'shapefile' format\n"
          ]
        }
      ],
      "source": [
        "cities_codes = {\n",
        "    'São Gabriel da Cachoeira': '1303809',\n",
        "    'São Paulo de Olivença': '1303908'\n",
        "}\n",
        "\n",
        "failed_cities = car.download_cities(cities_codes=cities_codes, folder='drive/MyDrive/SICAR/cities', tries=1, debug=True)"
      ]
    },
    {
      "cell_type": "code",
      "execution_count": null,
      "metadata": {
        "colab": {
          "base_uri": "https://localhost:8080/"
        },
        "id": "twTpIsaaa2QV",
        "outputId": "03bc05ae-594e-498f-bc26-41848114a197"
      },
      "outputs": [
        {
          "output_type": "stream",
          "name": "stdout",
          "text": [
            "{('São Gabriel da Cachoeira', '1303809'): False,\n",
            " ('São Paulo de Olivença', '1303908'): False}\n"
          ]
        }
      ],
      "source": [
        "pprint.pprint(failed_cities)"
      ]
    },
    {
      "cell_type": "markdown",
      "metadata": {
        "id": "UOPTmr7J1JDy"
      },
      "source": [
        "### Download state (Shapefile)"
      ]
    },
    {
      "cell_type": "code",
      "execution_count": null,
      "metadata": {
        "colab": {
          "base_uri": "https://localhost:8080/"
        },
        "id": "TgGAFvbG0RME",
        "outputId": "413c80e8-eda5-44e7-e37a-dec6af882845"
      },
      "outputs": [
        {
          "output_type": "stream",
          "name": "stderr",
          "text": [
            "Downloading Shapefile for city with code '1400050': 100%|██████████| 18.2M/18.2M [00:02<00:00, 7.85MiB/s]\n",
            "Downloading Shapefile for city with code '1400027': 100%|██████████| 42.6M/42.6M [00:04<00:00, 9.14MiB/s]\n",
            "Downloading Shapefile for city with code '1400100': 100%|██████████| 18.3M/18.3M [00:02<00:00, 8.24MiB/s]\n",
            "Downloading Shapefile for city with code '1400159': 100%|██████████| 20.7M/20.7M [00:02<00:00, 8.76MiB/s]\n",
            "Downloading Shapefile for city with code '1400175': 100%|██████████| 23.1M/23.1M [00:02<00:00, 9.97MiB/s]\n",
            "Downloading Shapefile for city with code '1400209': 100%|██████████| 27.7M/27.7M [00:03<00:00, 8.58MiB/s]\n",
            "Downloading Shapefile for city with code '1400233': 100%|██████████| 34.8M/34.8M [00:03<00:00, 8.94MiB/s]\n",
            "Downloading Shapefile for city with code '1400282': 100%|██████████| 14.0M/14.0M [00:01<00:00, 7.63MiB/s]\n",
            "Downloading Shapefile for city with code '1400308': 100%|██████████| 18.2M/18.2M [00:02<00:00, 8.33MiB/s]\n",
            "Downloading Shapefile for city with code '1400407': 100%|██████████| 774k/774k [00:00<00:00, 5.42MiB/s]\n",
            "Downloading Shapefile for city with code '1400456': 100%|██████████| 146k/146k [00:00<00:00, 612kiB/s] \n",
            "Downloading Shapefile for city with code '1400472': 100%|██████████| 56.7M/56.7M [00:05<00:00, 9.64MiB/s]\n",
            "Downloading Shapefile for city with code '1400506': 100%|██████████| 6.15M/6.15M [00:01<00:00, 6.11MiB/s]\n",
            "Downloading Shapefile for city with code '1400605': 100%|██████████| 11.8M/11.8M [00:01<00:00, 7.56MiB/s]\n"
          ]
        }
      ],
      "source": [
        "result = car.download_state(state=State.RR, folder='drive/MyDrive/SICAR/RR')\n",
        "# result = car.download_state(state='RR', folder='drive/MyDrive/SICAR/RR') # Also valid to use string 'RR'"
      ]
    },
    {
      "cell_type": "code",
      "source": [
        "pprint.pprint(result)"
      ],
      "metadata": {
        "id": "gxte1TatbyTA",
        "outputId": "d72e13ec-2503-49bb-b12b-d3fe1766767a",
        "colab": {
          "base_uri": "https://localhost:8080/"
        }
      },
      "execution_count": null,
      "outputs": [
        {
          "output_type": "stream",
          "name": "stdout",
          "text": [
            "{('Alto Alegre', '1400050'): PosixPath('drive/MyDrive/SICAR/RR/SHAPE_1400050.zip'),\n",
            " ('Amajari', '1400027'): PosixPath('drive/MyDrive/SICAR/RR/SHAPE_1400027.zip'),\n",
            " ('Boa Vista', '1400100'): PosixPath('drive/MyDrive/SICAR/RR/SHAPE_1400100.zip'),\n",
            " ('Bonfim', '1400159'): PosixPath('drive/MyDrive/SICAR/RR/SHAPE_1400159.zip'),\n",
            " ('Cantá', '1400175'): PosixPath('drive/MyDrive/SICAR/RR/SHAPE_1400175.zip'),\n",
            " ('Caracaraí', '1400209'): PosixPath('drive/MyDrive/SICAR/RR/SHAPE_1400209.zip'),\n",
            " ('Caroebe', '1400233'): PosixPath('drive/MyDrive/SICAR/RR/SHAPE_1400233.zip'),\n",
            " ('Iracema', '1400282'): PosixPath('drive/MyDrive/SICAR/RR/SHAPE_1400282.zip'),\n",
            " ('Mucajaí', '1400308'): PosixPath('drive/MyDrive/SICAR/RR/SHAPE_1400308.zip'),\n",
            " ('Normandia', '1400407'): PosixPath('drive/MyDrive/SICAR/RR/SHAPE_1400407.zip'),\n",
            " ('Pacaraima', '1400456'): PosixPath('drive/MyDrive/SICAR/RR/SHAPE_1400456.zip'),\n",
            " ('Rorainópolis', '1400472'): PosixPath('drive/MyDrive/SICAR/RR/SHAPE_1400472.zip'),\n",
            " ('São João da Baliza', '1400506'): PosixPath('drive/MyDrive/SICAR/RR/SHAPE_1400506.zip'),\n",
            " ('São Luiz', '1400605'): PosixPath('drive/MyDrive/SICAR/RR/SHAPE_1400605.zip'),\n",
            " ('Uiramutã', '1400704'): False}\n"
          ]
        }
      ]
    },
    {
      "cell_type": "markdown",
      "source": [
        "### Download state (CSV)"
      ],
      "metadata": {
        "id": "5ZxS3U5rnljj"
      }
    },
    {
      "cell_type": "code",
      "source": [
        "ap_result = car.download_state(state='AP', folder='drive/MyDrive/SICAR/AP', output_format=OutputFormat.CSV)"
      ],
      "metadata": {
        "colab": {
          "base_uri": "https://localhost:8080/"
        },
        "id": "bVWfmRgVl28T",
        "outputId": "0bce3f25-d9f4-41c3-897e-a3b4520aaa5f"
      },
      "execution_count": null,
      "outputs": [
        {
          "output_type": "stream",
          "name": "stderr",
          "text": [
            "Downloading CSV  file for city with code '1600105': 100%|██████████| 39.6k/39.6k [00:00<00:00, 40.8MiB/s]\n",
            "Downloading CSV  file for city with code '1600204': 100%|██████████| 81.7k/81.7k [00:00<00:00, 594kiB/s]\n",
            "Downloading CSV  file for city with code '1600212': 100%|██████████| 52.3k/52.3k [00:00<00:00, 381kiB/s]\n",
            "Downloading CSV  file for city with code '1600238': 100%|██████████| 71.7k/71.7k [00:00<00:00, 521kiB/s]\n",
            "Downloading CSV  file for city with code '1600253': 100%|██████████| 64.5k/64.5k [00:00<00:00, 470kiB/s]\n",
            "Downloading CSV  file for city with code '1600279': 100%|██████████| 36.9k/36.9k [00:00<00:00, 41.8MiB/s]\n",
            "Downloading CSV  file for city with code '1600303': 100%|██████████| 289k/289k [00:00<00:00, 696kiB/s]\n",
            "Downloading CSV  file for city with code '1600402': 100%|██████████| 107k/107k [00:00<00:00, 391kiB/s] \n",
            "Downloading CSV  file for city with code '1600501': 100%|██████████| 23.1k/23.1k [00:00<00:00, 18.2MiB/s]\n",
            "Downloading CSV  file for city with code '1600154': 100%|██████████| 112k/112k [00:00<00:00, 409kiB/s] \n",
            "Downloading CSV  file for city with code '1600535': 100%|██████████| 180k/180k [00:00<00:00, 656kiB/s] \n",
            "Downloading CSV  file for city with code '1600550': 100%|██████████| 28.2k/28.2k [00:00<00:00, 27.5MiB/s]\n",
            "Downloading CSV  file for city with code '1600600': 100%|██████████| 93.5k/93.5k [00:00<00:00, 338kiB/s]\n",
            "Downloading CSV  file for city with code '1600055': 100%|██████████| 29.1k/29.1k [00:00<00:00, 20.7MiB/s]\n",
            "Downloading CSV  file for city with code '1600709': 100%|██████████| 106k/106k [00:00<00:00, 383kiB/s] \n",
            "Downloading CSV  file for city with code '1600808': 100%|██████████| 126k/126k [00:00<00:00, 458kiB/s] \n"
          ]
        }
      ]
    },
    {
      "cell_type": "code",
      "source": [
        "pprint.pprint(ap_result)"
      ],
      "metadata": {
        "colab": {
          "base_uri": "https://localhost:8080/"
        },
        "id": "Mg0qXoIcl_R0",
        "outputId": "0ae61de3-6b8e-4893-d3fb-c2419670e70c"
      },
      "execution_count": null,
      "outputs": [
        {
          "output_type": "stream",
          "name": "stdout",
          "text": [
            "{('Amapá', '1600105'): PosixPath('drive/MyDrive/SICAR/AP/CSV_1600105.csv'),\n",
            " ('Calçoene', '1600204'): PosixPath('drive/MyDrive/SICAR/AP/CSV_1600204.csv'),\n",
            " ('Cutias', '1600212'): PosixPath('drive/MyDrive/SICAR/AP/CSV_1600212.csv'),\n",
            " ('Ferreira Gomes', '1600238'): PosixPath('drive/MyDrive/SICAR/AP/CSV_1600238.csv'),\n",
            " ('Itaubal', '1600253'): PosixPath('drive/MyDrive/SICAR/AP/CSV_1600253.csv'),\n",
            " ('Laranjal do Jari', '1600279'): PosixPath('drive/MyDrive/SICAR/AP/CSV_1600279.csv'),\n",
            " ('Macapá', '1600303'): PosixPath('drive/MyDrive/SICAR/AP/CSV_1600303.csv'),\n",
            " ('Mazagão', '1600402'): PosixPath('drive/MyDrive/SICAR/AP/CSV_1600402.csv'),\n",
            " ('Oiapoque', '1600501'): PosixPath('drive/MyDrive/SICAR/AP/CSV_1600501.csv'),\n",
            " ('Pedra Branca do Amapari', '1600154'): PosixPath('drive/MyDrive/SICAR/AP/CSV_1600154.csv'),\n",
            " ('Porto Grande', '1600535'): PosixPath('drive/MyDrive/SICAR/AP/CSV_1600535.csv'),\n",
            " ('Pracuúba', '1600550'): PosixPath('drive/MyDrive/SICAR/AP/CSV_1600550.csv'),\n",
            " ('Santana', '1600600'): PosixPath('drive/MyDrive/SICAR/AP/CSV_1600600.csv'),\n",
            " ('Serra do Navio', '1600055'): PosixPath('drive/MyDrive/SICAR/AP/CSV_1600055.csv'),\n",
            " ('Tartarugalzinho', '1600709'): PosixPath('drive/MyDrive/SICAR/AP/CSV_1600709.csv'),\n",
            " ('Vitória do Jari', '1600808'): PosixPath('drive/MyDrive/SICAR/AP/CSV_1600808.csv')}\n"
          ]
        }
      ]
    }
  ],
  "metadata": {
    "colab": {
      "provenance": []
    },
    "kernelspec": {
      "display_name": "Python 3",
      "name": "python3"
    }
  },
  "nbformat": 4,
  "nbformat_minor": 0
}