{
  "cells": [
    {
      "cell_type": "markdown",
      "metadata": {
        "id": "ut_EcJYGGvzG"
      },
      "source": [
        "# SICAR - Colab"
      ]
    },
    {
      "cell_type": "markdown",
      "metadata": {
        "id": "f4q5YavVG26M"
      },
      "source": [
        "[Optional] To ensure permanent file storage in your Google Drive account, you can connect it to this Colab notebook. By executing the following code snippet, your Google Drive will be mounted and accessible for saving and retrieving files:\n"
      ]
    },
    {
      "cell_type": "code",
      "execution_count": null,
      "metadata": {
        "colab": {
          "base_uri": "https://localhost:8080/"
        },
        "id": "SewHp3K6wrri",
        "outputId": "7d857bc0-ed37-4602-9283-5b5b069f9ca3"
      },
      "outputs": [],
      "source": [
        "from google.colab import drive\n",
        "drive.mount('/content/drive')"
      ]
    },
    {
      "cell_type": "markdown",
      "metadata": {
        "id": "7hGN3FJHzWEr"
      },
      "source": [
        "## Install SICAR package\n",
        "\n",
        "To install the SICAR package and the Tesseract OCR engine in your Colab notebook, execute the following commands:"
      ]
    },
    {
      "cell_type": "code",
      "execution_count": null,
      "metadata": {
        "colab": {
          "base_uri": "https://localhost:8080/"
        },
        "id": "pUUHpgV3pIsz",
        "outputId": "232b64c3-65ab-49e0-8e94-9969234ee67a"
      },
      "outputs": [],
      "source": [
        "!pip install git+https://github.com/urbanogilson/SICAR\n",
        "!sudo apt install tesseract-ocr -y"
      ]
    },
    {
      "cell_type": "markdown",
      "metadata": {
        "id": "Nz3QGQ7EewXQ"
      },
      "source": [
        "## Usage"
      ]
    },
    {
      "cell_type": "code",
      "execution_count": null,
      "metadata": {
        "id": "0SiOtCnby3TY"
      },
      "outputs": [],
      "source": [
        "from SICAR import Sicar, Polygon, State"
      ]
    },
    {
      "cell_type": "code",
      "execution_count": 3,
      "metadata": {
        "id": "mh1l468ry2pk"
      },
      "outputs": [],
      "source": [
        "# Create an instance of the Sicar class\n",
        "car = Sicar()"
      ]
    },
    {
      "cell_type": "markdown",
      "metadata": {
        "id": "UOPTmr7J1JDy"
      },
      "source": [
        "### Download state (Polygon)"
      ]
    },
    {
      "cell_type": "code",
      "execution_count": null,
      "metadata": {
        "colab": {
          "base_uri": "https://localhost:8080/"
        },
        "id": "TgGAFvbG0RME",
        "outputId": "413c80e8-eda5-44e7-e37a-dec6af882845"
      },
      "outputs": [],
      "source": [
        "result = car.download_state(state=State.RR, polygon=Polygon.APPS, folder='drive/MyDrive/SICAR/RR')\n",
        "# result = car.download_state(state='RR', polygon='APPS', folder='drive/MyDrive/SICAR/RR') # Also valid to use string 'RR' and 'APPS'"
      ]
    },
    {
      "cell_type": "markdown",
      "metadata": {},
      "source": [
        "### Polygons"
      ]
    },
    {
      "cell_type": "code",
      "execution_count": null,
      "metadata": {},
      "outputs": [],
      "source": [
        "help(Polygon)"
      ]
    },
    {
      "cell_type": "markdown",
      "metadata": {},
      "source": [
        "### State"
      ]
    },
    {
      "cell_type": "code",
      "execution_count": null,
      "metadata": {},
      "outputs": [],
      "source": [
        "help(State)"
      ]
    }
  ],
  "metadata": {
    "colab": {
      "provenance": []
    },
    "kernelspec": {
      "display_name": "Python 3",
      "name": "python3"
    }
  },
  "nbformat": 4,
  "nbformat_minor": 0
}
